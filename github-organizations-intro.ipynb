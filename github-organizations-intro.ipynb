{
 "cells": [
  {
   "cell_type": "markdown",
   "metadata": {},
   "source": [
    "# Querying the GitHub API for repositories and organizations\n",
    "\n",
    "By Stuart Geiger and Jamie Whitacre, made at a SciPy 2016 sprint. See the rendered, interactive, embedable map [here](http://staeiou.github.io/jupyter-orgs-map.html)."
   ]
  },
  {
   "cell_type": "code",
   "execution_count": 1,
   "metadata": {
    "collapsed": false
   },
   "outputs": [
    {
     "name": "stdout",
     "output_type": "stream",
     "text": [
      "Requirement already satisfied (use --upgrade to upgrade): pygithub in /home/mam/anaconda3/lib/python3.5/site-packages\n",
      "Requirement already satisfied (use --upgrade to upgrade): geopy in /home/mam/anaconda3/lib/python3.5/site-packages\n",
      "Requirement already satisfied (use --upgrade to upgrade): ipywidgets in /home/mam/anaconda3/lib/python3.5/site-packages\n",
      "Requirement already satisfied (use --upgrade to upgrade): widgetsnbextension>=1.2.6 in /home/mam/anaconda3/lib/python3.5/site-packages (from ipywidgets)\n",
      "Requirement already satisfied (use --upgrade to upgrade): ipykernel>=4.2.2 in /home/mam/anaconda3/lib/python3.5/site-packages (from ipywidgets)\n",
      "Requirement already satisfied (use --upgrade to upgrade): traitlets>=4.2.1 in /home/mam/anaconda3/lib/python3.5/site-packages (from ipywidgets)\n",
      "Requirement already satisfied (use --upgrade to upgrade): ipython>=4.0.0 in /home/mam/anaconda3/lib/python3.5/site-packages (from ipywidgets)\n",
      "Requirement already satisfied (use --upgrade to upgrade): notebook>=4.2.0 in /home/mam/notebook (from widgetsnbextension>=1.2.6->ipywidgets)\n",
      "Requirement already satisfied (use --upgrade to upgrade): jinja2 in /home/mam/anaconda3/lib/python3.5/site-packages (from notebook>=4.2.0->widgetsnbextension>=1.2.6->ipywidgets)\n",
      "Requirement already satisfied (use --upgrade to upgrade): tornado>=4 in /home/mam/anaconda3/lib/python3.5/site-packages (from notebook>=4.2.0->widgetsnbextension>=1.2.6->ipywidgets)\n",
      "Requirement already satisfied (use --upgrade to upgrade): ipython_genutils in /home/mam/anaconda3/lib/python3.5/site-packages (from notebook>=4.2.0->widgetsnbextension>=1.2.6->ipywidgets)\n",
      "Requirement already satisfied (use --upgrade to upgrade): jupyter_core in /home/mam/anaconda3/lib/python3.5/site-packages (from notebook>=4.2.0->widgetsnbextension>=1.2.6->ipywidgets)\n",
      "Requirement already satisfied (use --upgrade to upgrade): jupyter_client in /home/mam/anaconda3/lib/python3.5/site-packages (from notebook>=4.2.0->widgetsnbextension>=1.2.6->ipywidgets)\n",
      "Requirement already satisfied (use --upgrade to upgrade): nbformat in /home/mam/anaconda3/lib/python3.5/site-packages (from notebook>=4.2.0->widgetsnbextension>=1.2.6->ipywidgets)\n",
      "Requirement already satisfied (use --upgrade to upgrade): nbconvert in /home/mam/anaconda3/lib/python3.5/site-packages (from notebook>=4.2.0->widgetsnbextension>=1.2.6->ipywidgets)\n",
      "Requirement already satisfied (use --upgrade to upgrade): terminado>=0.3.3 in /home/mam/anaconda3/lib/python3.5/site-packages (from notebook>=4.2.0->widgetsnbextension>=1.2.6->ipywidgets)\n",
      "Requirement already satisfied (use --upgrade to upgrade): MarkupSafe in /home/mam/anaconda3/lib/python3.5/site-packages (from jinja2->notebook>=4.2.0->widgetsnbextension>=1.2.6->ipywidgets)\n"
     ]
    }
   ],
   "source": [
    "!pip install pygithub\n",
    "!pip install geopy\n",
    "!pip install ipywidgets"
   ]
  },
  {
   "cell_type": "code",
   "execution_count": 2,
   "metadata": {
    "collapsed": false
   },
   "outputs": [],
   "source": [
    "from github import Github"
   ]
  },
  {
   "cell_type": "code",
   "execution_count": 3,
   "metadata": {
    "collapsed": false
   },
   "outputs": [],
   "source": [
    "#this is my private login credentials, stored in ghlogin.py\n",
    "import ghlogin\n"
   ]
  },
  {
   "cell_type": "code",
   "execution_count": 4,
   "metadata": {
    "collapsed": false
   },
   "outputs": [],
   "source": [
    "g = Github(login_or_token=ghlogin.gh_user, password=ghlogin.gh_passwd)"
   ]
  },
  {
   "cell_type": "markdown",
   "metadata": {
    "collapsed": false
   },
   "source": [
    "With this Github object, you can get all kinds of Github objects, which you can then futher explore."
   ]
  },
  {
   "cell_type": "code",
   "execution_count": 5,
   "metadata": {
    "collapsed": true
   },
   "outputs": [],
   "source": [
    "user = g.get_user(\"staeiou\")\n"
   ]
  },
  {
   "cell_type": "code",
   "execution_count": 6,
   "metadata": {
    "collapsed": false
   },
   "outputs": [
    {
     "name": "stdout",
     "output_type": "stream",
     "text": [
      "Stuart Geiger\n",
      "2013-06-14 00:25:39\n",
      "Berkeley, CA\n"
     ]
    }
   ],
   "source": [
    "print(user.name)\n",
    "print(user.created_at)\n",
    "print(user.location)"
   ]
  },
  {
   "cell_type": "code",
   "execution_count": 7,
   "metadata": {
    "collapsed": true
   },
   "outputs": [],
   "source": [
    "repo = g.get_repo(\"jupyter/notebook\")"
   ]
  },
  {
   "cell_type": "code",
   "execution_count": 8,
   "metadata": {
    "collapsed": false
   },
   "outputs": [
    {
     "name": "stdout",
     "output_type": "stream",
     "text": [
      "notebook\n",
      "Jupyter Interactive Notebook\n",
      "<github.Organization.Organization object at 0x7f2c26dd0d30>\n",
      "Project Jupyter\n",
      "JavaScript\n"
     ]
    }
   ],
   "source": [
    "print(repo.name)\n",
    "print(repo.description)\n",
    "print(repo.organization)\n",
    "print(repo.organization.name)\n",
    "print(repo.language)\n"
   ]
  },
  {
   "cell_type": "markdown",
   "metadata": {},
   "source": [
    "There are lots of properties of the various objects (repos, users, organizations), but there are also methods that return lists of objects. You need to iterate through these lists, or access them with indexes. What you usually get from these lists are also objects that have their own properties and methods."
   ]
  },
  {
   "cell_type": "code",
   "execution_count": null,
   "metadata": {
    "collapsed": false
   },
   "outputs": [],
   "source": []
  },
  {
   "cell_type": "code",
   "execution_count": null,
   "metadata": {
    "collapsed": true
   },
   "outputs": [],
   "source": []
  },
  {
   "cell_type": "code",
   "execution_count": 9,
   "metadata": {
    "collapsed": false
   },
   "outputs": [
    {
     "name": "stdout",
     "output_type": "stream",
     "text": [
      "Author name:  Matthias Bussonnier\n",
      "Committer name:  GitHub Web Flow\n",
      "Lines added:  5\n",
      "Lines deleted:  0\n",
      "Commit message:\n",
      "---------\n",
      " Merge pull request #1614 from staeiou/master\n",
      "\n",
      "Add info on how to launch master branch install\n"
     ]
    }
   ],
   "source": [
    "commits = repo.get_commits()\n",
    "commit = commits[0]\n",
    "print(\"Author name: \", commit.author.name)\n",
    "print(\"Committer name: \", commit.committer.name)\n",
    "print(\"Lines added: \", commit.stats.additions)\n",
    "print(\"Lines deleted: \", commit.stats.deletions)\n",
    "print(\"Commit message:\\n---------\\n\", commit.commit.message)"
   ]
  },
  {
   "cell_type": "code",
   "execution_count": 11,
   "metadata": {
    "collapsed": false
   },
   "outputs": [],
   "source": [
    "import datetime"
   ]
  },
  {
   "cell_type": "code",
   "execution_count": 12,
   "metadata": {
    "collapsed": false
   },
   "outputs": [
    {
     "name": "stdout",
     "output_type": "stream",
     "text": [
      "76 29\n"
     ]
    }
   ],
   "source": [
    "one_month_ago = datetime.datetime.now() - datetime.timedelta(days=30)\n",
    "net_lines_added = 0\n",
    "num_commits = 0\n",
    "\n",
    "for commit in repo.get_commits(since = one_month_ago):\n",
    "    net_lines_added += commit.stats.additions\n",
    "    net_lines_added -= commit.stats.deletions\n",
    "    num_commits += 1\n",
    "    \n",
    "print(net_lines_added, num_commits)"
   ]
  },
  {
   "cell_type": "code",
   "execution_count": null,
   "metadata": {
    "collapsed": false
   },
   "outputs": [],
   "source": []
  },
  {
   "cell_type": "code",
   "execution_count": 14,
   "metadata": {
    "collapsed": false
   },
   "outputs": [
    {
     "name": "stdout",
     "output_type": "stream",
     "text": [
      "Getting rid of IPython global. 391\n",
      "Semantic highlighting.  407\n",
      "Is it possible to add notebook metadata, like a description which shows up in the notebook file view? 407\n"
     ]
    }
   ],
   "source": [
    "issues = repo.get_issues()\n",
    "for issue in issues:\n",
    "    last_updated_delta = datetime.datetime.now() - issue.updated_at\n",
    "    if last_updated_delta > datetime.timedelta(days=365):\n",
    "        print(issue.title, last_updated_delta.days)\n",
    "    "
   ]
  },
  {
   "cell_type": "markdown",
   "metadata": {
    "collapsed": false
   },
   "source": [
    "## Organizations"
   ]
  },
  {
   "cell_type": "markdown",
   "metadata": {},
   "source": [
    "Organizations are objects too, which have similar properties:"
   ]
  },
  {
   "cell_type": "code",
   "execution_count": 15,
   "metadata": {
    "collapsed": true
   },
   "outputs": [],
   "source": [
    "org = g.get_organization(\"jupyter\")"
   ]
  },
  {
   "cell_type": "code",
   "execution_count": 16,
   "metadata": {
    "collapsed": false
   },
   "outputs": [
    {
     "name": "stdout",
     "output_type": "stream",
     "text": [
      "Project Jupyter\n",
      "2014-04-23 21:36:43\n",
      "https://github.com/jupyter\n"
     ]
    }
   ],
   "source": [
    "print(org.name)\n",
    "print(org.created_at)\n",
    "print(org.html_url)"
   ]
  },
  {
   "cell_type": "markdown",
   "metadata": {},
   "source": [
    "The API has a get_public_members() function, but it just shows those who are on the \"people\" board on the [organization's page](https://github.com/jupyter). You can also see that if someone doesn't have a field set, it returns None. Some people just have usernames set without full names."
   ]
  },
  {
   "cell_type": "code",
   "execution_count": 17,
   "metadata": {
    "collapsed": false
   },
   "outputs": [
    {
     "name": "stdout",
     "output_type": "stream",
     "text": [
      "Matthias Bussonnier https://api.github.com/users/Carreau\n",
      "JamieW https://api.github.com/users/JamiesHQ\n",
      "Corey Stubbs https://api.github.com/users/Lull3rSkat3r\n",
      "Sylvain Corlay https://api.github.com/users/SylvainCorlay\n",
      "Afshin Darian https://api.github.com/users/afshin\n",
      "Steven Silvester https://api.github.com/users/blink1073\n",
      "Safia Abdalla https://api.github.com/users/captainsafia\n",
      "Dave Willmer https://api.github.com/users/dwillmer\n",
      "Fernando Perez https://api.github.com/users/fperez\n",
      "Paul Ivanov https://api.github.com/users/ivanov\n",
      "None https://api.github.com/users/jakirkham\n",
      "Jason Grout https://api.github.com/users/jasongrout\n",
      "Jonathan Frederic https://api.github.com/users/jdfreder\n",
      "Jessica B. Hamrick https://api.github.com/users/jhamrick\n",
      "Min RK https://api.github.com/users/minrk\n",
      "Peter Parente https://api.github.com/users/parente\n",
      "Mike https://api.github.com/users/poplav\n",
      "Kyle Kelley https://api.github.com/users/rgbkrk\n",
      "Sumit Sahrawat https://api.github.com/users/sumitsahrawat\n",
      "Thomas Kluyver https://api.github.com/users/takluyver\n",
      "Carol Willing https://api.github.com/users/willingc\n"
     ]
    }
   ],
   "source": [
    "for member in org.get_public_members():\n",
    "    print(member.name, member.url)"
   ]
  },
  {
   "cell_type": "markdown",
   "metadata": {},
   "source": [
    "We can go through all the repositories in the organization with the get_repos() function. It returns a list of repository objects, which have their own properties and methods."
   ]
  },
  {
   "cell_type": "code",
   "execution_count": 18,
   "metadata": {
    "collapsed": false
   },
   "outputs": [
    {
     "data": {
      "text/plain": [
       "'notebook'"
      ]
     },
     "execution_count": 18,
     "metadata": {},
     "output_type": "execute_result"
    }
   ],
   "source": [
    "repo.name"
   ]
  },
  {
   "cell_type": "code",
   "execution_count": null,
   "metadata": {
    "collapsed": false
   },
   "outputs": [],
   "source": []
  },
  {
   "cell_type": "markdown",
   "metadata": {},
   "source": [
    "## Rate limiting"
   ]
  },
  {
   "cell_type": "markdown",
   "metadata": {
    "collapsed": false
   },
   "source": [
    "Now that we have made a few requests, we can see what our rate limit is. If you are logged in, you get 5,000 requests per hour. If you are not, you only get 60 per hour. You can use methods in the GitHub object to see your limit, usage, and reset time. We have used less than 50 of our 5,000 requests with these calls."
   ]
  },
  {
   "cell_type": "code",
   "execution_count": 20,
   "metadata": {
    "collapsed": false
   },
   "outputs": [
    {
     "data": {
      "text/plain": [
       "(4908, 5000)"
      ]
     },
     "execution_count": 20,
     "metadata": {},
     "output_type": "execute_result"
    }
   ],
   "source": [
    "g.rate_limiting"
   ]
  },
  {
   "cell_type": "code",
   "execution_count": 21,
   "metadata": {
    "collapsed": false
   },
   "outputs": [
    {
     "data": {
      "text/plain": [
       "1469149774"
      ]
     },
     "execution_count": 21,
     "metadata": {},
     "output_type": "execute_result"
    }
   ],
   "source": [
    "reset_time = g.rate_limiting_resettime\n",
    "reset_time"
   ]
  },
  {
   "cell_type": "markdown",
   "metadata": {},
   "source": [
    "This value is in seconds since the UTC epoch (Jan 1st, 1970), so we have to convert it. Here is a quick function that takes a GitHub object, queries the API to find our next reset time, and converts it to minutes."
   ]
  },
  {
   "cell_type": "code",
   "execution_count": 22,
   "metadata": {
    "collapsed": false
   },
   "outputs": [],
   "source": [
    "import datetime\n",
    "def minutes_to_reset(github):\n",
    "    reset_time = github.rate_limiting_resettime\n",
    "    timedelta_to_reset = datetime.datetime.fromtimestamp(reset_time) - datetime.datetime.now()\n",
    "    return timedelta_to_reset.seconds / 60\n",
    "    "
   ]
  },
  {
   "cell_type": "code",
   "execution_count": 23,
   "metadata": {
    "collapsed": false
   },
   "outputs": [
    {
     "data": {
      "text/plain": [
       "58.11666666666667"
      ]
     },
     "execution_count": 23,
     "metadata": {},
     "output_type": "execute_result"
    }
   ],
   "source": [
    "minutes_to_reset(g)"
   ]
  },
  {
   "cell_type": "markdown",
   "metadata": {},
   "source": [
    "## Getting location data for an organization's contributors\n",
    "### Mapping and geolocation"
   ]
  },
  {
   "cell_type": "markdown",
   "metadata": {
    "collapsed": false,
    "scrolled": true
   },
   "source": [
    "Before we get into how to query GitHub, we know we will have to get location coordinates for each contributor, and then plot it on a map. So we are going to do that first.\n",
    "\n",
    "For geolocation, we are using geopy's geolocator object, which is based on Open Street Map's Nominatim API. Nominatim takes in any arbitrary location data and then returns a location object, which includes the best latitude and longitude coordinates it can find. \n",
    "\n",
    "This does mean that we will have more error than if we did this manually, and there might be vastly different levels of accuracy. For example, if someone just has \"UK\" as their location, it will show up in the geographic center of the UK, which is somewhere on the edge of the Lake District. \"USA\" resolves to somewhere in Kansas. However, you can get very specific location data if you put in more detail."
   ]
  },
  {
   "cell_type": "code",
   "execution_count": 24,
   "metadata": {
    "collapsed": false
   },
   "outputs": [
    {
     "name": "stdout",
     "output_type": "stream",
     "text": [
      "-3.2765752 54.7023545\n",
      "-100.4458824 39.7837304\n",
      "-122.259492086406 37.87219435\n"
     ]
    }
   ],
   "source": [
    "from geopy.geocoders import Nominatim\n",
    "\n",
    "geolocator = Nominatim()\n",
    "uk_loc = geolocator.geocode(\"UK\")\n",
    "print(uk_loc.longitude,uk_loc.latitude)\n",
    "\n",
    "us_loc = geolocator.geocode(\"USA\")\n",
    "print(us_loc.longitude,us_loc.latitude)\n",
    "\n",
    "bids_loc = geolocator.geocode(\"Doe Library, Berkeley CA, 94720 USA\")\n",
    "print(bids_loc.longitude,bids_loc.latitude)"
   ]
  },
  {
   "cell_type": "markdown",
   "metadata": {},
   "source": [
    "We can plot points on a map using ipyleaflets and ipywidgets. We first set up a map object, which is created with various parameters. Then we create Marker objects, which are then appended to the map. We then display the map inline in this notebook."
   ]
  },
  {
   "cell_type": "code",
   "execution_count": 25,
   "metadata": {
    "collapsed": false
   },
   "outputs": [],
   "source": [
    "import ipywidgets\n",
    "\n",
    "from ipyleaflet import (\n",
    "    Map,\n",
    "    Marker,\n",
    "    TileLayer, ImageOverlay,\n",
    "    Polyline, Polygon, Rectangle, Circle, CircleMarker,\n",
    "    GeoJSON,\n",
    "    DrawControl\n",
    ")\n",
    "\n",
    "center = [30.0, 5.0]\n",
    "zoom = 2\n",
    "m = Map(default_tiles=TileLayer(opacity=1.0), center=center, zoom=zoom, layout=ipywidgets.Layout(height=\"600px\"))\n",
    "\n",
    "uk_mark = Marker(location=[uk_loc.latitude,uk_loc.longitude])\n",
    "uk_mark.visible\n",
    "m += uk_mark\n",
    "\n",
    "us_mark = Marker(location=[us_loc.latitude,us_loc.longitude])\n",
    "us_mark.visible\n",
    "m += us_mark\n",
    "\n",
    "bids_mark = Marker(location=[bids_loc.latitude,bids_loc.longitude])\n",
    "bids_mark.visible\n",
    "m += bids_mark"
   ]
  },
  {
   "cell_type": "code",
   "execution_count": null,
   "metadata": {
    "collapsed": true
   },
   "outputs": [],
   "source": []
  },
  {
   "cell_type": "markdown",
   "metadata": {},
   "source": [
    "### Querying GitHub for location data\n",
    "\n",
    "For our mapping script, we want to get profiles for everyone who has made a commit to any of the repositories in the Jupyter organization, find their location (if any), then add it to a list. The API has a get_contributors function for repo objects, which returns a list of contributors ordered by number of commits, but not one that works across all repos in an org. So we have to iterate through all the repos in the org, and run the get_contributors method for We also want to make sure we don't add any duplicates to our list to over-represent any areas, so we keep track of people in a dictionary."
   ]
  },
  {
   "cell_type": "markdown",
   "metadata": {},
   "source": [
    "I've written a few functions to make it easy to retreive and map an organization's contributors."
   ]
  },
  {
   "cell_type": "code",
   "execution_count": 26,
   "metadata": {
    "collapsed": false
   },
   "outputs": [],
   "source": [
    "def get_org_contributor_locations(github, org_name):\n",
    "    \"\"\"\n",
    "    For a GitHub organization, get location for contributors to any repo in the org.\n",
    "    \n",
    "    Returns a dictionary of {username URLS : geopy Locations}, then a dictionary of various metadata.\n",
    "    \n",
    "    \"\"\"\n",
    "    \n",
    "    # Set up empty dictionaries and metadata variables\n",
    "    contributor_locs = {}\n",
    "    locations = []\n",
    "    none_count = 0\n",
    "    error_count = 0\n",
    "    user_loc_count = 0\n",
    "    duplicate_count = 0\n",
    "    geolocator = Nominatim()\n",
    "\n",
    "    \n",
    "    # For each repo in the organization\n",
    "    for repo in github.get_organization(org_name).get_repos():\n",
    "        #print(repo.name)\n",
    "        \n",
    "        # For each contributor in the repo        \n",
    "        for contributor in repo.get_contributors():\n",
    "            print('.', end=\"\")\n",
    "            # If the contributor_locs dictionary doesn't have an entry for this user\n",
    "            if contributor_locs.get(contributor.url) is None:\n",
    "                \n",
    "                # Try-Except block to handle API errors\n",
    "                try:\n",
    "                    # If the contributor has no location in profile\n",
    "                    if(contributor.location is None):\n",
    "                        #print(\"No Location\")\n",
    "                        none_count += 1\n",
    "                    else:\n",
    "                        # Get coordinates for location string from Nominatim API\n",
    "                        location=geolocator.geocode(contributor.location)\n",
    "\n",
    "                        #print(contributor.location, \" | \", location)\n",
    "                        \n",
    "                        # Add a new entry to the dictionary. Value is user's URL, key is geocoded location object\n",
    "                        contributor_locs[contributor.url] = location\n",
    "                        user_loc_count += 1\n",
    "                except Exception:\n",
    "                    print('!', end=\"\")\n",
    "                    error_count += 1\n",
    "            else:\n",
    "                duplicate_count += 1\n",
    "                \n",
    "    return contributor_locs,{'no_loc_count':none_count, 'user_loc_count':user_loc_count, \n",
    "                             'duplicate_count':duplicate_count, 'error_count':error_count}\n"
   ]
  },
  {
   "cell_type": "markdown",
   "metadata": {},
   "source": [
    "With this, we can easily query an organization. The U.D. Digital Service (org name: usds) is a small org that works well for testing. It takes about a second per contributor to get this data, so we want to test on small orgs."
   ]
  },
  {
   "cell_type": "code",
   "execution_count": 27,
   "metadata": {
    "collapsed": false
   },
   "outputs": [
    {
     "name": "stdout",
     "output_type": "stream",
     "text": [
      "..............................."
     ]
    }
   ],
   "source": [
    "usds_locs, usds_metadata = get_org_contributor_locations(g,'usds')"
   ]
  },
  {
   "cell_type": "code",
   "execution_count": 28,
   "metadata": {
    "collapsed": false
   },
   "outputs": [
    {
     "data": {
      "text/plain": [
       "{'duplicate_count': 1,\n",
       " 'error_count': 0,\n",
       " 'no_loc_count': 8,\n",
       " 'user_loc_count': 22}"
      ]
     },
     "execution_count": 28,
     "metadata": {},
     "output_type": "execute_result"
    }
   ],
   "source": [
    "usds_metadata"
   ]
  },
  {
   "cell_type": "markdown",
   "metadata": {},
   "source": [
    "We are going to explore this dataset, but not plot names or usernames. I'm a bit hesitant to publish location data with unique identifiers, even if people put that information in their profiles. "
   ]
  },
  {
   "cell_type": "code",
   "execution_count": 29,
   "metadata": {
    "collapsed": false
   },
   "outputs": [
    {
     "data": {
      "text/plain": [
       "[Location(D,C, Buccaneer Ridge Drive, Johnson City, Washington County, Tennessee, 37614, United States of America, (36.29885175, -82.3591932141095, 0.0)),\n",
       " Location(Washington, District of Columbia, United States of America, (38.8949549, -77.0366455, 0.0)),\n",
       " Location(東京都, 日本, (34.2255804, 139.294774527387, 0.0)),\n",
       " Location(Seattle, King County, Washington, United States of America, (47.6038321, -122.3300623, 0.0)),\n",
       " Location(Washington, District of Columbia, United States of America, (38.8949549, -77.0366455, 0.0)),\n",
       " Location(Washington, District of Columbia, United States of America, (38.8949549, -77.0366455, 0.0)),\n",
       " Location(Washington, District of Columbia, United States of America, (38.8949549, -77.0366455, 0.0)),\n",
       " Location(Dayton, Montgomery County, Ohio, United States of America, (39.7589478, -84.1916068, 0.0)),\n",
       " Location(United States of America, (39.7837304, -100.4458824, 0.0)),\n",
       " Location(D,C, Buccaneer Ridge Drive, Johnson City, Washington County, Tennessee, 37614, United States of America, (36.29885175, -82.3591932141095, 0.0)),\n",
       " Location(Alexandria, Alexandria City, Virginia, United States of America, (38.8051095, -77.0470228, 0.0)),\n",
       " Location(Washington, District of Columbia, United States of America, (38.8949549, -77.0366455, 0.0)),\n",
       " Location(Brooklyn Basin, Oakland, Alameda County, California, United States of America, (37.7857615, -122.24858, 0.0)),\n",
       " Location(SF, California, United States of America, (37.7792808, -122.4192362, 0.0)),\n",
       " Location(Oakland, Alameda County, California, United States of America, (37.8044557, -122.2713562, 0.0)),\n",
       " Location(Milwaukee, Milwaukee County, Wisconsin, United States of America, (43.0349931, -87.9224969, 0.0)),\n",
       " Location(SF, California, United States of America, (37.7792808, -122.4192362, 0.0)),\n",
       " Location(SF, California, United States of America, (37.7792808, -122.4192362, 0.0)),\n",
       " Location(Port Angeles, Clallam County, Washington, United States of America, (48.118146, -123.4307412, 0.0)),\n",
       " Location(Falls Church, Falls Church City, Virginia, United States of America, (38.882334, -77.1710913, 0.0)),\n",
       " Location(Portland, Multnomah County, Oregon, United States of America, (45.5202471, -122.6741948, 0.0)),\n",
       " Location(Washington, District of Columbia, United States of America, (38.8949549, -77.0366455, 0.0))]"
      ]
     },
     "execution_count": 29,
     "metadata": {},
     "output_type": "execute_result"
    }
   ],
   "source": [
    "usds_locs_nousernames = []\n",
    "for contributor, location in usds_locs.items():\n",
    "    usds_locs_nousernames.append(location)\n",
    "usds_locs_nousernames"
   ]
  },
  {
   "cell_type": "markdown",
   "metadata": {},
   "source": [
    "Now we can map this data using another function I have written."
   ]
  },
  {
   "cell_type": "code",
   "execution_count": 30,
   "metadata": {
    "collapsed": true
   },
   "outputs": [],
   "source": [
    "def map_location_dict(map_obj,org_location_dict):\n",
    "    \"\"\"\n",
    "    Maps the locations in a dictionary of {ids : geoPy Locations}. \n",
    "    \n",
    "    Must be passed a map object, then the dictionary. Returns the map object.\n",
    "    \n",
    "    \"\"\"\n",
    "    for username, location in org_location_dict.items():\n",
    "        if(location is not None):\n",
    "            mark = Marker(location=[location.latitude,location.longitude])\n",
    "            mark.visible\n",
    "            map_obj += mark\n",
    "            \n",
    "\n",
    "    return map_obj"
   ]
  },
  {
   "cell_type": "code",
   "execution_count": null,
   "metadata": {
    "collapsed": false
   },
   "outputs": [],
   "source": []
  },
  {
   "cell_type": "code",
   "execution_count": 31,
   "metadata": {
    "collapsed": false
   },
   "outputs": [],
   "source": [
    "center = [30.0,5.0]\n",
    "zoom = 2\n",
    "usds_map = Map(default_tiles=TileLayer(opacity=1.0), center=center, zoom=zoom, layout=ipywidgets.Layout(height=\"600px\"))\n",
    "\n",
    "usds_map = map_location_dict(usds_map, usds_locs)"
   ]
  },
  {
   "cell_type": "code",
   "execution_count": 33,
   "metadata": {
    "collapsed": false
   },
   "outputs": [
    {
     "name": "stderr",
     "output_type": "stream",
     "text": [
      "--- Logging error ---\n",
      "Traceback (most recent call last):\n",
      "  File \"/home/mam/anaconda3/lib/python3.5/logging/__init__.py\", line 984, in emit\n",
      "    self.flush()\n",
      "  File \"/home/mam/anaconda3/lib/python3.5/logging/__init__.py\", line 964, in flush\n",
      "    self.stream.flush()\n",
      "OSError: [Errno 5] Input/output error\n",
      "Call stack:\n",
      "  File \"/home/mam/anaconda3/lib/python3.5/runpy.py\", line 170, in _run_module_as_main\n",
      "    \"__main__\", mod_spec)\n",
      "  File \"/home/mam/anaconda3/lib/python3.5/runpy.py\", line 85, in _run_code\n",
      "    exec(code, run_globals)\n",
      "  File \"/home/mam/anaconda3/lib/python3.5/site-packages/ipykernel/__main__.py\", line 3, in <module>\n",
      "    app.launch_new_instance()\n",
      "  File \"/home/mam/anaconda3/lib/python3.5/site-packages/traitlets/config/application.py\", line 596, in launch_instance\n",
      "    app.start()\n",
      "  File \"/home/mam/anaconda3/lib/python3.5/site-packages/ipykernel/kernelapp.py\", line 442, in start\n",
      "    ioloop.IOLoop.instance().start()\n",
      "  File \"/home/mam/anaconda3/lib/python3.5/site-packages/zmq/eventloop/ioloop.py\", line 162, in start\n",
      "    super(ZMQIOLoop, self).start()\n",
      "  File \"/home/mam/anaconda3/lib/python3.5/site-packages/tornado/ioloop.py\", line 883, in start\n",
      "    handler_func(fd_obj, events)\n",
      "  File \"/home/mam/anaconda3/lib/python3.5/site-packages/tornado/stack_context.py\", line 275, in null_wrapper\n",
      "    return fn(*args, **kwargs)\n",
      "  File \"/home/mam/anaconda3/lib/python3.5/site-packages/zmq/eventloop/zmqstream.py\", line 440, in _handle_events\n",
      "    self._handle_recv()\n",
      "  File \"/home/mam/anaconda3/lib/python3.5/site-packages/zmq/eventloop/zmqstream.py\", line 472, in _handle_recv\n",
      "    self._run_callback(callback, msg)\n",
      "  File \"/home/mam/anaconda3/lib/python3.5/site-packages/zmq/eventloop/zmqstream.py\", line 414, in _run_callback\n",
      "    callback(*args, **kwargs)\n",
      "  File \"/home/mam/anaconda3/lib/python3.5/site-packages/tornado/stack_context.py\", line 275, in null_wrapper\n",
      "    return fn(*args, **kwargs)\n",
      "  File \"/home/mam/anaconda3/lib/python3.5/site-packages/ipykernel/kernelbase.py\", line 276, in dispatcher\n",
      "    return self.dispatch_shell(stream, msg)\n",
      "  File \"/home/mam/anaconda3/lib/python3.5/site-packages/ipykernel/kernelbase.py\", line 228, in dispatch_shell\n",
      "    handler(stream, idents, msg)\n",
      "  File \"/home/mam/anaconda3/lib/python3.5/site-packages/ipykernel/kernelbase.py\", line 391, in execute_request\n",
      "    user_expressions, allow_stdin)\n",
      "  File \"/home/mam/anaconda3/lib/python3.5/site-packages/ipykernel/ipkernel.py\", line 199, in do_execute\n",
      "    shell.run_cell(code, store_history=store_history, silent=silent)\n",
      "  File \"/home/mam/anaconda3/lib/python3.5/site-packages/IPython/core/interactiveshell.py\", line 2723, in run_cell\n",
      "    interactivity=interactivity, compiler=compiler, result=result)\n",
      "  File \"/home/mam/anaconda3/lib/python3.5/site-packages/IPython/core/interactiveshell.py\", line 2831, in run_ast_nodes\n",
      "    if self.run_code(code, result):\n",
      "  File \"/home/mam/anaconda3/lib/python3.5/site-packages/IPython/core/interactiveshell.py\", line 2885, in run_code\n",
      "    exec(code_obj, self.user_global_ns, self.user_ns)\n",
      "  File \"<ipython-input-33-ab33b07005c7>\", line 1, in <module>\n",
      "    usds_map\n",
      "  File \"/home/mam/anaconda3/lib/python3.5/site-packages/IPython/core/displayhook.py\", line 246, in __call__\n",
      "    format_dict, md_dict = self.compute_format_data(result)\n",
      "  File \"/home/mam/anaconda3/lib/python3.5/site-packages/IPython/core/displayhook.py\", line 152, in compute_format_data\n",
      "    return self.shell.display_formatter.format(result)\n",
      "  File \"/home/mam/anaconda3/lib/python3.5/site-packages/IPython/core/formatters.py\", line 165, in format\n",
      "    if self.ipython_display_formatter(obj):\n",
      "  File \"<decorator-gen-11>\", line 2, in __call__\n",
      "  File \"/home/mam/anaconda3/lib/python3.5/site-packages/IPython/core/formatters.py\", line 222, in catch_format_error\n",
      "    r = method(self, *args, **kwargs)\n",
      "  File \"/home/mam/anaconda3/lib/python3.5/site-packages/IPython/core/formatters.py\", line 909, in __call__\n",
      "    method()\n",
      "  File \"/home/mam/anaconda3/lib/python3.5/site-packages/ipywidgets/widgets/widget.py\", line 474, in _ipython_display_\n",
      "    loud_error('Widget Javascript not detected.  It may not be '\n",
      "  File \"/home/mam/anaconda3/lib/python3.5/site-packages/ipywidgets/widgets/widget.py\", line 464, in loud_error\n",
      "    self.log.warn(message)\n",
      "Message: 'Widget Javascript not detected.  It may not be installed properly. Did you enable the widgetsnbextension? If not, then run \"jupyter nbextension enable --py --sys-prefix widgetsnbextension\"'\n",
      "Arguments: ()\n",
      "Widget Javascript not detected.  It may not be installed properly. Did you enable the widgetsnbextension? If not, then run \"jupyter nbextension enable --py --sys-prefix widgetsnbextension\"\n"
     ]
    }
   ],
   "source": [
    "usds_map"
   ]
  },
  {
   "cell_type": "code",
   "execution_count": null,
   "metadata": {
    "collapsed": true
   },
   "outputs": [],
   "source": []
  }
 ],
 "metadata": {
  "kernelspec": {
   "display_name": "Python 3",
   "language": "python",
   "name": "python3"
  },
  "language_info": {
   "codemirror_mode": {
    "name": "ipython",
    "version": 3
   },
   "file_extension": ".py",
   "mimetype": "text/x-python",
   "name": "python",
   "nbconvert_exporter": "python",
   "pygments_lexer": "ipython3",
   "version": "3.5.1"
  },
  "widgets": {
   "state": {
    "a80691cb8a8b40f68893a6855ea3e0c9": {
     "views": [
      {
       "cell_index": 52
      }
     ]
    }
   },
   "version": "1.2.0"
  }
 },
 "nbformat": 4,
 "nbformat_minor": 1
}
