{
 "cells": [
  {
   "cell_type": "markdown",
   "metadata": {},
   "source": [
    "# Querying the GitHub API for repositories and organizations\n",
    "\n",
    "By Stuart Geiger and Jamie Whitacre, made at a SciPy 2016 sprint. See the rendered, interactive, embedable map [here](http://staeiou.github.io/jupyter-orgs-map.html)."
   ]
  },
  {
   "cell_type": "code",
   "execution_count": null,
   "metadata": {
    "collapsed": false
   },
   "outputs": [],
   "source": [
    "!pip install pygithub\n",
    "!pip install geopy\n",
    "!pip install ipywidgets"
   ]
  },
  {
   "cell_type": "code",
   "execution_count": null,
   "metadata": {
    "collapsed": false
   },
   "outputs": [],
   "source": [
    "from github import Github"
   ]
  },
  {
   "cell_type": "code",
   "execution_count": null,
   "metadata": {
    "collapsed": false
   },
   "outputs": [],
   "source": [
    "#this is my private login credentials, stored in ghlogin.py\n",
    "import ghlogin\n"
   ]
  },
  {
   "cell_type": "code",
   "execution_count": null,
   "metadata": {
    "collapsed": false
   },
   "outputs": [],
   "source": [
    "g = Github(login_or_token=ghlogin.gh_user, password=ghlogin.gh_passwd)"
   ]
  },
  {
   "cell_type": "markdown",
   "metadata": {
    "collapsed": false
   },
   "source": [
    "With this Github object, you can get all kinds of Github objects, which you can then futher explore."
   ]
  },
  {
   "cell_type": "code",
   "execution_count": null,
   "metadata": {
    "collapsed": true
   },
   "outputs": [],
   "source": [
    "user = g.get_user(\"staeiou\")\n"
   ]
  },
  {
   "cell_type": "code",
   "execution_count": 143,
   "metadata": {
    "collapsed": false
   },
   "outputs": [],
   "source": [
    "from geopy.geocoders import Nominatim\n"
   ]
  },
  {
   "cell_type": "markdown",
   "metadata": {},
   "source": [
    "We can plot points on a map using ipyleaflets and ipywidgets. We first set up a map object, which is created with various parameters. Then we create Marker objects, which are then appended to the map. We then display the map inline in this notebook."
   ]
  },
  {
   "cell_type": "code",
   "execution_count": 144,
   "metadata": {
    "collapsed": false
   },
   "outputs": [],
   "source": [
    "import ipywidgets\n",
    "\n",
    "from ipyleaflet import (\n",
    "    Map,\n",
    "    Marker,\n",
    "    TileLayer, ImageOverlay,\n",
    "    Polyline, Polygon, Rectangle, Circle, CircleMarker,\n",
    "    GeoJSON,\n",
    "    DrawControl\n",
    ")\n"
   ]
  },
  {
   "cell_type": "code",
   "execution_count": null,
   "metadata": {
    "collapsed": true
   },
   "outputs": [],
   "source": []
  },
  {
   "cell_type": "markdown",
   "metadata": {},
   "source": [
    "### Querying GitHub for location data\n",
    "\n",
    "For our mapping script, we want to get profiles for everyone who has made a commit to any of the repositories in the Jupyter organization, find their location (if any), then add it to a list. The API has a get_contributors function for repo objects, which returns a list of contributors ordered by number of commits, but not one that works across all repos in an org. So we have to iterate through all the repos in the org, and run the get_contributors method for We also want to make sure we don't add any duplicates to our list to over-represent any areas, so we keep track of people in a dictionary."
   ]
  },
  {
   "cell_type": "markdown",
   "metadata": {},
   "source": [
    "I've written a few functions to make it easy to retreive and map an organization's contributors."
   ]
  },
  {
   "cell_type": "code",
   "execution_count": null,
   "metadata": {
    "collapsed": false
   },
   "outputs": [],
   "source": [
    "def get_org_contributor_locations(github, org_name):\n",
    "    \"\"\"\n",
    "    For a GitHub organization, get location for contributors to any repo in the org.\n",
    "    \n",
    "    Returns a dictionary of {username URLS : geopy Locations}, then a dictionary of various metadata.\n",
    "    \n",
    "    \"\"\"\n",
    "    \n",
    "    # Set up empty dictionaries and metadata variables\n",
    "    contributor_locs = {}\n",
    "    locations = []\n",
    "    none_count = 0\n",
    "    error_count = 0\n",
    "    user_loc_count = 0\n",
    "    duplicate_count = 0\n",
    "    geolocator = Nominatim()\n",
    "\n",
    "    \n",
    "    # For each repo in the organization\n",
    "    for repo in github.get_organization(org_name).get_repos():\n",
    "        #print(repo.name)\n",
    "        \n",
    "        # For each contributor in the repo        \n",
    "        for contributor in repo.get_contributors():\n",
    "            print('.', end=\"\")\n",
    "            # If the contributor_locs dictionary doesn't have an entry for this user\n",
    "            if contributor_locs.get(contributor.url) is None:\n",
    "                \n",
    "                # Try-Except block to handle API errors\n",
    "                try:\n",
    "                    # If the contributor has no location in profile\n",
    "                    if(contributor.location is None):\n",
    "                        #print(\"No Location\")\n",
    "                        none_count += 1\n",
    "                    else:\n",
    "                        # Get coordinates for location string from Nominatim API\n",
    "                        location=geolocator.geocode(contributor.location)\n",
    "\n",
    "                        #print(contributor.location, \" | \", location)\n",
    "                        \n",
    "                        # Add a new entry to the dictionary. Value is user's URL, key is geocoded location object\n",
    "                        contributor_locs[contributor.url] = location\n",
    "                        user_loc_count += 1\n",
    "                except Exception:\n",
    "                    print('!', end=\"\")\n",
    "                    error_count += 1\n",
    "            else:\n",
    "                duplicate_count += 1\n",
    "                \n",
    "    return contributor_locs,{'no_loc_count':none_count, 'user_loc_count':user_loc_count, \n",
    "                             'duplicate_count':duplicate_count, 'error_count':error_count}\n"
   ]
  },
  {
   "cell_type": "code",
   "execution_count": null,
   "metadata": {
    "collapsed": true
   },
   "outputs": [],
   "source": [
    "def map_location_dict(map_obj,org_location_dict):\n",
    "    \"\"\"\n",
    "    Maps the locations in a dictionary of {ids : geoPy Locations}. \n",
    "    \n",
    "    Must be passed a map object, then the dictionary. Returns the map object.\n",
    "    \n",
    "    \"\"\"\n",
    "    for username, location in org_location_dict.items():\n",
    "        if(location is not None):\n",
    "            mark = Marker(location=[location.latitude,location.longitude])\n",
    "            mark.visible\n",
    "            map_obj += mark\n",
    "            \n",
    "\n",
    "    return map_obj"
   ]
  },
  {
   "cell_type": "code",
   "execution_count": null,
   "metadata": {
    "collapsed": false
   },
   "outputs": [],
   "source": []
  },
  {
   "cell_type": "markdown",
   "metadata": {},
   "source": [
    "## Mapping multiple organizations\n",
    "Sometimes you have multiple organizations within a group of interest. Because these are functions, they can be combined with some loops."
   ]
  },
  {
   "cell_type": "code",
   "execution_count": null,
   "metadata": {
    "collapsed": false
   },
   "outputs": [],
   "source": [
    "jupyter_orgs = ['jupyter', 'ipython', 'jupyter-attic','jupyterhub']\n"
   ]
  },
  {
   "cell_type": "code",
   "execution_count": null,
   "metadata": {
    "collapsed": true
   },
   "outputs": [],
   "source": []
  },
  {
   "cell_type": "code",
   "execution_count": null,
   "metadata": {
    "collapsed": false
   },
   "outputs": [],
   "source": [
    "orgs_location_dict = {}\n",
    "orgs_metadata_dict = {}\n",
    "for org in jupyter_orgs:\n",
    "    # For a status update, print when we get to a new org in the list\n",
    "    print(org)\n",
    "    orgs_location_dict[org], orgs_metadata_dict[org] = get_org_contributor_locations(g,org)"
   ]
  },
  {
   "cell_type": "code",
   "execution_count": null,
   "metadata": {
    "collapsed": false
   },
   "outputs": [],
   "source": [
    "orgs_metadata_dict"
   ]
  },
  {
   "cell_type": "markdown",
   "metadata": {},
   "source": [
    "### Plotting the map"
   ]
  },
  {
   "cell_type": "code",
   "execution_count": null,
   "metadata": {
    "collapsed": false
   },
   "outputs": [],
   "source": [
    "center = [30, 5]\n",
    "zoom = 2\n",
    "jupyter_orgs_maps = Map(default_tiles=TileLayer(opacity=1.0), center=center, zoom=zoom, \n",
    "                        layout=ipywidgets.Layout(height=\"600px\"))\n",
    "\n",
    "for org_name,org_location_dict in orgs_location_dict.items():\n",
    "    jupyter_orgs_maps += map_location_dict(jupyter_orgs_maps,org_location_dict)"
   ]
  },
  {
   "cell_type": "code",
   "execution_count": null,
   "metadata": {
    "collapsed": true
   },
   "outputs": [],
   "source": [
    "jupyter_orgs_maps"
   ]
  },
  {
   "cell_type": "markdown",
   "metadata": {},
   "source": [
    "### Saving to file"
   ]
  },
  {
   "cell_type": "code",
   "execution_count": null,
   "metadata": {
    "collapsed": false
   },
   "outputs": [],
   "source": [
    "def org_dict_to_csv(org_location_dict, filename, hashed_usernames = True):\n",
    "    \"\"\"\n",
    "    Outputs a dict of users : locations to a CSV file. \n",
    "    \n",
    "    Requires org_location_dict and filename, optional hashed_usernames parameter.\n",
    "    \n",
    "    Uses hashes of usernames by default for privacy reasons. Think carefully \n",
    "    about publishing location data about uniquely identifiable users. Hashing\n",
    "    allows you to check unique users without revealing personal information.\n",
    "    \"\"\"\n",
    "    try:\n",
    "        import hashlib\n",
    "        with open(filename, 'w') as f:\n",
    "            f.write(\"user, longitude, latitude\\n\")\n",
    "            for user, location in org_location_dict.items():\n",
    "                if location is not None:\n",
    "                    if hashed_usernames:\n",
    "                        user_output = hashlib.sha1(user.encode('utf-8')).hexdigest()\n",
    "                    else:\n",
    "                        user_output = user\n",
    "                    line = user_output + \", \" + str(location.longitude) + \", \" \\\n",
    "                           + str(location.latitude) + \"\\n\"\n",
    "                    f.write(line)\n",
    "        f.close()\n",
    "    except Exception as e:\n",
    "        return e"
   ]
  },
  {
   "cell_type": "code",
   "execution_count": 146,
   "metadata": {
    "collapsed": false
   },
   "outputs": [],
   "source": [
    "def csv_to_js_var(input_file, output_file):\n",
    "    import pandas as pd\n",
    "    import json\n",
    "\n",
    "    df = pd.read_csv(input_file)\n",
    "    dct = df.to_dict()\n",
    "\n",
    "    with open(output_file,'w') as f:\n",
    "        f.write('var addressPoints = '+json.dumps([[ll,l,u] for u,l,ll in zip(dct['user'].values(),dct[' longitude'].values(), dct[' latitude'].values())], indent=2)+';')\n"
   ]
  },
  {
   "cell_type": "code",
   "execution_count": null,
   "metadata": {
    "collapsed": false
   },
   "outputs": [],
   "source": []
  },
  {
   "cell_type": "code",
   "execution_count": null,
   "metadata": {
    "collapsed": false
   },
   "outputs": [],
   "source": []
  },
  {
   "cell_type": "code",
   "execution_count": null,
   "metadata": {
    "collapsed": false
   },
   "outputs": [],
   "source": []
  },
  {
   "cell_type": "code",
   "execution_count": null,
   "metadata": {
    "collapsed": false
   },
   "outputs": [],
   "source": [
    "def org_dict_to_geojson(org_location_dict, filename, hashed_usernames = True):\n",
    "    \"\"\"\n",
    "    CURRENTLY BROKEN!\n",
    "    Outputs a dict of users : locations to a CSV file. \n",
    "    \n",
    "    Requires org_location_dict and filename, optional hashed_usernames parameter.\n",
    "    \n",
    "    Uses hashes of usernames by default for privacy reasons. Think carefully \n",
    "    about publishing location data about uniquely identifiable users. Hashing\n",
    "    allows you to check unique users without revealing personal information.\n",
    "    \"\"\"\n",
    "\n",
    "    import hashlib\n",
    "    with open(filename, 'w') as f:\n",
    "        header = \"\"\"\n",
    "{ \"type\": \"FeatureCollection\",\n",
    "    \"features\": [\n",
    "\"\"\"\n",
    "        f.write(header)\n",
    "        for user, location in org_location_dict.items():\n",
    "\n",
    "            if location is not None:\n",
    "                if hashed_usernames:\n",
    "                    user_output = hashlib.sha1(user.encode('utf-8')).hexdigest()\n",
    "                else:\n",
    "                    user_output = user\n",
    "\n",
    "                line = \"\"\"\n",
    "    {\n",
    "        \"type\": \"Feature\",\n",
    "        \"geometry\": {\n",
    "            \"type\": \"Point\",\n",
    "            \"coordinates\": [%s, %s]\n",
    "        },\n",
    "        \"properties\": {\n",
    "            \"name\": \"%s\"\n",
    "        }\n",
    "    },\n",
    "\"\"\" % (location.longitude, location.latitude, user_output)\n",
    "\n",
    "                f.write(line)\n",
    "        f.write(\"]}\")\n",
    "    f.close()"
   ]
  },
  {
   "cell_type": "code",
   "execution_count": null,
   "metadata": {
    "collapsed": true
   },
   "outputs": [],
   "source": []
  },
  {
   "cell_type": "code",
   "execution_count": null,
   "metadata": {
    "collapsed": false
   },
   "outputs": [],
   "source": []
  },
  {
   "cell_type": "code",
   "execution_count": null,
   "metadata": {
    "collapsed": false
   },
   "outputs": [],
   "source": [
    "org_dict_to_csv(orgs_location_dict['ipython'], \"org_data/ipython.csv\")"
   ]
  },
  {
   "cell_type": "code",
   "execution_count": 147,
   "metadata": {
    "collapsed": true
   },
   "outputs": [],
   "source": [
    "for org_name, org_location_dict in orgs_location_dict.items():\n",
    "    org_dict_to_csv(org_location_dict, \"org_data/\" + org_name + \".csv\")\n",
    "    csv_to_js_var(\"org_data/\" + org_name + \".csv\", \"org_data/\" + org_name + \".js\")"
   ]
  },
  {
   "cell_type": "code",
   "execution_count": null,
   "metadata": {
    "collapsed": true
   },
   "outputs": [],
   "source": [
    "def csv_to_org_dict(filename):\n",
    "    \n",
    "    \n",
    "    \"\"\"\n",
    "    TODO: Write function to read an outputted CSV file back to an org_dict.\n",
    "    Should convert lon/lat pairs to geopy Location objects for full compatibility.\n",
    "    \n",
    "    Also, think about a general class object for org_dicts. \n",
    "    \"\"\"\n",
    "    \n",
    "\n",
    "            "
   ]
  },
  {
   "cell_type": "markdown",
   "metadata": {},
   "source": [
    "Note that this will have duplicates across the organizations, as it is just getting the location data from each of the organizations and putting it into a different dictionary."
   ]
  },
  {
   "cell_type": "code",
   "execution_count": null,
   "metadata": {
    "collapsed": false
   },
   "outputs": [],
   "source": []
  },
  {
   "cell_type": "code",
   "execution_count": null,
   "metadata": {
    "collapsed": false
   },
   "outputs": [],
   "source": []
  },
  {
   "cell_type": "code",
   "execution_count": null,
   "metadata": {
    "collapsed": false
   },
   "outputs": [],
   "source": []
  }
 ],
 "metadata": {
  "kernelspec": {
   "display_name": "Python 3",
   "language": "python",
   "name": "python3"
  },
  "language_info": {
   "codemirror_mode": {
    "name": "ipython",
    "version": 3
   },
   "file_extension": ".py",
   "mimetype": "text/x-python",
   "name": "python",
   "nbconvert_exporter": "python",
   "pygments_lexer": "ipython3",
   "version": "3.5.1"
  },
  "widgets": {
   "state": {
    "79a5c84646834f3ea44bf1035bfde152": {
     "views": [
      {
       "cell_index": 56
      }
     ]
    },
    "bd681adb803d4328a88523b2215daee2": {
     "views": [
      {
       "cell_index": 48
      }
     ]
    }
   },
   "version": "1.2.0"
  }
 },
 "nbformat": 4,
 "nbformat_minor": 1
}
